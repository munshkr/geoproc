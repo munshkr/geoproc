{
 "cells": [
  {
   "cell_type": "markdown",
   "id": "9e5c83e8-d3bb-4242-b535-5af4b92418c9",
   "metadata": {},
   "source": [
    "## Preparation"
   ]
  },
  {
   "cell_type": "code",
   "execution_count": 1,
   "id": "bdc5ed11-17c4-407b-ae6a-fc071ed4668b",
   "metadata": {},
   "outputs": [],
   "source": [
    "from geoproc import Image"
   ]
  },
  {
   "cell_type": "code",
   "execution_count": 2,
   "id": "093ce7ba-83d7-4b8a-b965-b8df8dc3dcac",
   "metadata": {},
   "outputs": [],
   "source": [
    "import folium\n",
    "\n",
    "def _leaflet_bounds(map_bounds):\n",
    "    sw_coord = (map_bounds[1], map_bounds[0])\n",
    "    ne_coord = (map_bounds[3], map_bounds[2])\n",
    "    return [sw_coord, ne_coord]\n",
    "\n",
    "def _geo_add_layer(self, image, name, vis_params={}):\n",
    "    map_dict = image.get_map(vis_params)\n",
    "    bounds = _leaflet_bounds(image.map_bounds)\n",
    "    folium.raster_layers.TileLayer(\n",
    "      tiles=map_dict['tiles_url'],\n",
    "      attr='Map data from geoproc :-)',\n",
    "      name=name,\n",
    "      overlay=True,\n",
    "      control=True,\n",
    "      min_native_zoom=image.info[\"min_zoom\"],\n",
    "      bounds=bounds,\n",
    "    ).add_to(self)\n",
    "    folium.LayerControl(collapsed=False).add_to(self)\n",
    "    \n",
    "def _geo_fit_to_image(self, image, **kwargs):\n",
    "    bounds = _leaflet_bounds(image.map_bounds)\n",
    "    self.fit_bounds(bounds, **kwargs)\n",
    "\n",
    "folium.Map.add_layer = _geo_add_layer\n",
    "folium.Map.fit_to_image = _geo_fit_to_image"
   ]
  },
  {
   "cell_type": "markdown",
   "id": "52c2cb76-f230-4263-a424-f485556d208d",
   "metadata": {
    "tags": []
   },
   "source": [
    "## Tiles"
   ]
  },
  {
   "cell_type": "code",
   "execution_count": 3,
   "id": "43a52018-6eb1-42a4-a36f-ae6a02ff29ec",
   "metadata": {},
   "outputs": [],
   "source": [
    "img = Image(\"examples/small_tci.tif\")"
   ]
  },
  {
   "cell_type": "code",
   "execution_count": 4,
   "id": "38e127ff-0848-4331-a5af-3926c83d96bb",
   "metadata": {
    "tags": []
   },
   "outputs": [
    {
     "data": {
      "text/plain": [
       "[-1.98019740485087, 49.54811254183769, -1.4669059289362074, 49.74632896368088]"
      ]
     },
     "execution_count": 4,
     "metadata": {},
     "output_type": "execute_result"
    }
   ],
   "source": [
    "img.map_bounds"
   ]
  },
  {
   "cell_type": "code",
   "execution_count": 5,
   "id": "03733386-33d9-432e-ac3a-141b7f9a328a",
   "metadata": {
    "tags": []
   },
   "outputs": [
    {
     "data": {
      "text/plain": [
       "{'crs': 'EPSG:32630',\n",
       " 'bounds': [573760.0, 5489510.0, 610460.0, 5510930.0],\n",
       " 'map_bounds': [-1.98019740485087,\n",
       "  49.54811254183769,\n",
       "  -1.4669059289362074,\n",
       "  49.74632896368088],\n",
       " 'band_names': ['B1', 'B2', 'B3'],\n",
       " 'dtype': 'uint8',\n",
       " 'min_zoom': 9,\n",
       " 'max_zoom': 13}"
      ]
     },
     "execution_count": 5,
     "metadata": {},
     "output_type": "execute_result"
    }
   ],
   "source": [
    "img.info"
   ]
  },
  {
   "cell_type": "code",
   "execution_count": 6,
   "id": "2a59bf23-4444-4a7e-b3ef-0312168f1733",
   "metadata": {},
   "outputs": [
    {
     "data": {
      "text/html": [
       "<div style=\"width:100%;\"><div style=\"position:relative;width:100%;height:0;padding-bottom:60%;\"><span style=\"color:#565656\">Make this Notebook Trusted to load map: File -> Trust Notebook</span><iframe srcdoc=\"&lt;!DOCTYPE html&gt;\n",
       "&lt;html&gt;\n",
       "&lt;head&gt;\n",
       "    \n",
       "    &lt;meta http-equiv=&quot;content-type&quot; content=&quot;text/html; charset=UTF-8&quot; /&gt;\n",
       "    \n",
       "        &lt;script&gt;\n",
       "            L_NO_TOUCH = false;\n",
       "            L_DISABLE_3D = false;\n",
       "        &lt;/script&gt;\n",
       "    \n",
       "    &lt;style&gt;html, body {width: 100%;height: 100%;margin: 0;padding: 0;}&lt;/style&gt;\n",
       "    &lt;style&gt;#map {position:absolute;top:0;bottom:0;right:0;left:0;}&lt;/style&gt;\n",
       "    &lt;script src=&quot;https://cdn.jsdelivr.net/npm/leaflet@1.6.0/dist/leaflet.js&quot;&gt;&lt;/script&gt;\n",
       "    &lt;script src=&quot;https://code.jquery.com/jquery-1.12.4.min.js&quot;&gt;&lt;/script&gt;\n",
       "    &lt;script src=&quot;https://maxcdn.bootstrapcdn.com/bootstrap/3.2.0/js/bootstrap.min.js&quot;&gt;&lt;/script&gt;\n",
       "    &lt;script src=&quot;https://cdnjs.cloudflare.com/ajax/libs/Leaflet.awesome-markers/2.0.2/leaflet.awesome-markers.js&quot;&gt;&lt;/script&gt;\n",
       "    &lt;link rel=&quot;stylesheet&quot; href=&quot;https://cdn.jsdelivr.net/npm/leaflet@1.6.0/dist/leaflet.css&quot;/&gt;\n",
       "    &lt;link rel=&quot;stylesheet&quot; href=&quot;https://maxcdn.bootstrapcdn.com/bootstrap/3.2.0/css/bootstrap.min.css&quot;/&gt;\n",
       "    &lt;link rel=&quot;stylesheet&quot; href=&quot;https://maxcdn.bootstrapcdn.com/bootstrap/3.2.0/css/bootstrap-theme.min.css&quot;/&gt;\n",
       "    &lt;link rel=&quot;stylesheet&quot; href=&quot;https://maxcdn.bootstrapcdn.com/font-awesome/4.6.3/css/font-awesome.min.css&quot;/&gt;\n",
       "    &lt;link rel=&quot;stylesheet&quot; href=&quot;https://cdnjs.cloudflare.com/ajax/libs/Leaflet.awesome-markers/2.0.2/leaflet.awesome-markers.css&quot;/&gt;\n",
       "    &lt;link rel=&quot;stylesheet&quot; href=&quot;https://cdn.jsdelivr.net/gh/python-visualization/folium/folium/templates/leaflet.awesome.rotate.min.css&quot;/&gt;\n",
       "    \n",
       "            &lt;meta name=&quot;viewport&quot; content=&quot;width=device-width,\n",
       "                initial-scale=1.0, maximum-scale=1.0, user-scalable=no&quot; /&gt;\n",
       "            &lt;style&gt;\n",
       "                #map_581357f5ec454a019c55064fbd3d226a {\n",
       "                    position: relative;\n",
       "                    width: 100.0%;\n",
       "                    height: 100.0%;\n",
       "                    left: 0.0%;\n",
       "                    top: 0.0%;\n",
       "                }\n",
       "            &lt;/style&gt;\n",
       "        \n",
       "&lt;/head&gt;\n",
       "&lt;body&gt;\n",
       "    \n",
       "    \n",
       "            &lt;div class=&quot;folium-map&quot; id=&quot;map_581357f5ec454a019c55064fbd3d226a&quot; &gt;&lt;/div&gt;\n",
       "        \n",
       "&lt;/body&gt;\n",
       "&lt;script&gt;\n",
       "    \n",
       "    \n",
       "            var map_581357f5ec454a019c55064fbd3d226a = L.map(\n",
       "                &quot;map_581357f5ec454a019c55064fbd3d226a&quot;,\n",
       "                {\n",
       "                    center: [0, 0],\n",
       "                    crs: L.CRS.EPSG3857,\n",
       "                    zoom: 1,\n",
       "                    zoomControl: true,\n",
       "                    preferCanvas: false,\n",
       "                }\n",
       "            );\n",
       "\n",
       "            \n",
       "\n",
       "        \n",
       "    \n",
       "            var tile_layer_80bc9cc90b4678d3f48aee71ce411542 = L.tileLayer(\n",
       "                &quot;https://{s}.tile.openstreetmap.org/{z}/{x}/{y}.png&quot;,\n",
       "                {&quot;attribution&quot;: &quot;Data by \\u0026copy; \\u003ca href=\\&quot;http://openstreetmap.org\\&quot;\\u003eOpenStreetMap\\u003c/a\\u003e, under \\u003ca href=\\&quot;http://www.openstreetmap.org/copyright\\&quot;\\u003eODbL\\u003c/a\\u003e.&quot;, &quot;detectRetina&quot;: false, &quot;maxNativeZoom&quot;: 18, &quot;maxZoom&quot;: 18, &quot;minZoom&quot;: 0, &quot;noWrap&quot;: false, &quot;opacity&quot;: 1, &quot;subdomains&quot;: &quot;abc&quot;, &quot;tms&quot;: false}\n",
       "            ).addTo(map_581357f5ec454a019c55064fbd3d226a);\n",
       "        \n",
       "    \n",
       "            var tile_layer_536630bc0e3cb48d1c74c75d4c3488c8 = L.tileLayer(\n",
       "                &quot;http://localhost:8000/tiles/52f85e77-9b9f-433d-ab11-c9743c51a2a5/{z}/{x}/{y}.png&quot;,\n",
       "                {&quot;attribution&quot;: &quot;Map data from geoproc :-)&quot;, &quot;bounds&quot;: [[49.54811254183769, -1.98019740485087], [49.74632896368088, -1.4669059289362074]], &quot;detectRetina&quot;: false, &quot;maxNativeZoom&quot;: 18, &quot;maxZoom&quot;: 18, &quot;minNativeZoom&quot;: 9, &quot;minZoom&quot;: 0, &quot;noWrap&quot;: false, &quot;opacity&quot;: 1, &quot;subdomains&quot;: &quot;abc&quot;, &quot;tms&quot;: false}\n",
       "            ).addTo(map_581357f5ec454a019c55064fbd3d226a);\n",
       "        \n",
       "    \n",
       "            var layer_control_d7aceae1785dc007a92e920b0aa846f8 = {\n",
       "                base_layers : {\n",
       "                    &quot;openstreetmap&quot; : tile_layer_80bc9cc90b4678d3f48aee71ce411542,\n",
       "                },\n",
       "                overlays :  {\n",
       "                    &quot;tci&quot; : tile_layer_536630bc0e3cb48d1c74c75d4c3488c8,\n",
       "                },\n",
       "            };\n",
       "            L.control.layers(\n",
       "                layer_control_d7aceae1785dc007a92e920b0aa846f8.base_layers,\n",
       "                layer_control_d7aceae1785dc007a92e920b0aa846f8.overlays,\n",
       "                {&quot;autoZIndex&quot;: true, &quot;collapsed&quot;: false, &quot;position&quot;: &quot;topright&quot;}\n",
       "            ).addTo(map_581357f5ec454a019c55064fbd3d226a);\n",
       "        \n",
       "    \n",
       "            map_581357f5ec454a019c55064fbd3d226a.fitBounds(\n",
       "                [[49.54811254183769, -1.98019740485087], [49.74632896368088, -1.4669059289362074]],\n",
       "                {}\n",
       "            );\n",
       "        \n",
       "&lt;/script&gt;\n",
       "&lt;/html&gt;\" style=\"position:absolute;width:100%;height:100%;left:0;top:0;border:none !important;\" allowfullscreen webkitallowfullscreen mozallowfullscreen></iframe></div></div>"
      ],
      "text/plain": [
       "<folium.folium.Map at 0x12d2fc750>"
      ]
     },
     "metadata": {},
     "output_type": "display_data"
    }
   ],
   "source": [
    "# Define a map\n",
    "m = folium.Map()\n",
    "\n",
    "# Add the image layer to the map and display it.\n",
    "m.add_layer(img, 'tci')\n",
    "\n",
    "# Fit bounds to image\n",
    "m.fit_to_image(img)\n",
    "\n",
    "display(m)"
   ]
  },
  {
   "cell_type": "code",
   "execution_count": 7,
   "id": "b64c4947-926c-4de3-91bf-467dd7376a8e",
   "metadata": {},
   "outputs": [
    {
     "data": {
      "text/plain": [
       "\u001b[0;31mSignature:\u001b[0m\n",
       "\u001b[0mimg\u001b[0m\u001b[0;34m.\u001b[0m\u001b[0mexport\u001b[0m\u001b[0;34m(\u001b[0m\u001b[0;34m\u001b[0m\n",
       "\u001b[0;34m\u001b[0m    \u001b[0mpath\u001b[0m\u001b[0;34m:\u001b[0m \u001b[0;34m'str'\u001b[0m\u001b[0;34m,\u001b[0m\u001b[0;34m\u001b[0m\n",
       "\u001b[0;34m\u001b[0m    \u001b[0;34m*\u001b[0m\u001b[0;34m,\u001b[0m\u001b[0;34m\u001b[0m\n",
       "\u001b[0;34m\u001b[0m    \u001b[0mbounds\u001b[0m\u001b[0;34m:\u001b[0m \u001b[0;34m'Optional[BBox]'\u001b[0m \u001b[0;34m=\u001b[0m \u001b[0;32mNone\u001b[0m\u001b[0;34m,\u001b[0m\u001b[0;34m\u001b[0m\n",
       "\u001b[0;34m\u001b[0m    \u001b[0mscale\u001b[0m\u001b[0;34m:\u001b[0m \u001b[0;34m'float'\u001b[0m \u001b[0;34m=\u001b[0m \u001b[0;36m1000\u001b[0m\u001b[0;34m,\u001b[0m\u001b[0;34m\u001b[0m\n",
       "\u001b[0;34m\u001b[0m    \u001b[0min_crs\u001b[0m\u001b[0;34m:\u001b[0m \u001b[0;34m'str'\u001b[0m \u001b[0;34m=\u001b[0m \u001b[0;34m'epsg:4326'\u001b[0m\u001b[0;34m,\u001b[0m\u001b[0;34m\u001b[0m\n",
       "\u001b[0;34m\u001b[0m    \u001b[0mcrs\u001b[0m\u001b[0;34m:\u001b[0m \u001b[0;34m'str'\u001b[0m \u001b[0;34m=\u001b[0m \u001b[0;34m'epsg:4326'\u001b[0m\u001b[0;34m,\u001b[0m\u001b[0;34m\u001b[0m\n",
       "\u001b[0;34m\u001b[0m\u001b[0;34m)\u001b[0m\u001b[0;34m\u001b[0m\u001b[0;34m\u001b[0m\u001b[0m\n",
       "\u001b[0;31mDocstring:\u001b[0m <no docstring>\n",
       "\u001b[0;31mFile:\u001b[0m      ~/Projects/geoproc/geoproc/image.py\n",
       "\u001b[0;31mType:\u001b[0m      method\n"
      ]
     },
     "metadata": {},
     "output_type": "display_data"
    }
   ],
   "source": [
    "img.export?"
   ]
  },
  {
   "cell_type": "code",
   "execution_count": 8,
   "id": "43c3c324-f580-43ac-b16d-637fe44a882d",
   "metadata": {},
   "outputs": [
    {
     "name": "stdout",
     "output_type": "stream",
     "text": [
      "scale 50\n",
      "scale 100\n",
      "scale 200\n"
     ]
    }
   ],
   "source": [
    "for i in [50, 100, 200]:\n",
    "    img.export(f\"tmp/tci_{i}.tif\", scale=i, crs=\"epsg:32630\")\n",
    "    img.export(f\"tmp/tci_{i}_epsg4326.tif\", scale=i)\n",
    "    print(\"scale\", i)    "
   ]
  },
  {
   "cell_type": "code",
   "execution_count": 9,
   "id": "d313f7f1-58b5-43d2-9459-a4dbd408af36",
   "metadata": {},
   "outputs": [
    {
     "data": {
      "text/plain": [
       "{'result': 'ok'}"
      ]
     },
     "execution_count": 9,
     "metadata": {},
     "output_type": "execute_result"
    }
   ],
   "source": [
    "img.export(\"tmp/bad_3857.tif\", scale=10, crs=\"epsg:3857\")"
   ]
  },
  {
   "cell_type": "code",
   "execution_count": 10,
   "id": "7dbb4095-a6bf-41e8-a276-297e3345bc17",
   "metadata": {},
   "outputs": [
    {
     "data": {
      "text/plain": [
       "{'result': 'ok'}"
      ]
     },
     "execution_count": 10,
     "metadata": {},
     "output_type": "execute_result"
    }
   ],
   "source": [
    "img.export(\"tmp/bad_utm.tif\", scale=10, crs=\"epsg:32630\")"
   ]
  },
  {
   "cell_type": "code",
   "execution_count": 11,
   "id": "fdbb80a9-0f4a-456a-9d1d-d5f9c4d49565",
   "metadata": {},
   "outputs": [
    {
     "data": {
      "text/plain": [
       "{'result': 'ok'}"
      ]
     },
     "execution_count": 11,
     "metadata": {},
     "output_type": "execute_result"
    }
   ],
   "source": [
    "img.export(\"tmp/bad_4326.tif\", scale=10)"
   ]
  },
  {
   "cell_type": "markdown",
   "id": "4673af04-0756-4099-b7ea-d4dcba8be36f",
   "metadata": {},
   "source": [
    "## Merging"
   ]
  },
  {
   "cell_type": "code",
   "execution_count": 12,
   "id": "c3e7d41d-a5fe-46bd-bb3b-4f9dfb75050b",
   "metadata": {},
   "outputs": [],
   "source": [
    "from glob import glob"
   ]
  },
  {
   "cell_type": "code",
   "execution_count": 13,
   "id": "26c3455f-c00a-48c8-b819-c4cc0229ce2f",
   "metadata": {},
   "outputs": [],
   "source": [
    "images = [Image.load(f\"examples/{p}\") for p in sorted(glob(\"tiles_cog/*.tif\"))]"
   ]
  },
  {
   "cell_type": "code",
   "execution_count": 14,
   "id": "5e072fd2-5a64-4b1a-bf25-509ca5fcae16",
   "metadata": {},
   "outputs": [],
   "source": [
    "new_img = images[0]\n",
    "for img in images[1:]:\n",
    "    new_img = new_img + img"
   ]
  },
  {
   "cell_type": "code",
   "execution_count": 15,
   "id": "d09360e4-29ae-4b0a-827e-4ba00ef0b3f7",
   "metadata": {},
   "outputs": [
    {
     "data": {
      "text/plain": [
       "{'name': '__add__',\n",
       " 'args': [{'name': '__add__',\n",
       "   'args': [{'name': '__add__',\n",
       "     'args': [{'name': '__add__',\n",
       "       'args': [{'name': '__add__',\n",
       "         'args': [{'name': '__add__',\n",
       "           'args': [{'name': '__add__',\n",
       "             'args': [{'name': '__add__',\n",
       "               'args': [{'name': '__add__',\n",
       "                 'args': [{'name': '__add__',\n",
       "                   'args': [{'name': '__add__',\n",
       "                     'args': [{'name': '__add__',\n",
       "                       'args': [{'name': 'load',\n",
       "                         'args': ['examples/tiles_cog/merged.tif']},\n",
       "                        {'name': 'load',\n",
       "                         'args': ['examples/tiles_cog/small_tci_1_1.tif']}]},\n",
       "                      {'name': 'load',\n",
       "                       'args': ['examples/tiles_cog/small_tci_1_2.tif']}]},\n",
       "                    {'name': 'load',\n",
       "                     'args': ['examples/tiles_cog/small_tci_1_3.tif']}]},\n",
       "                  {'name': 'load',\n",
       "                   'args': ['examples/tiles_cog/small_tci_1_4.tif']}]},\n",
       "                {'name': 'load',\n",
       "                 'args': ['examples/tiles_cog/small_tci_2_1.tif']}]},\n",
       "              {'name': 'load',\n",
       "               'args': ['examples/tiles_cog/small_tci_2_2.tif']}]},\n",
       "            {'name': 'load',\n",
       "             'args': ['examples/tiles_cog/small_tci_2_3.tif']}]},\n",
       "          {'name': 'load', 'args': ['examples/tiles_cog/small_tci_2_4.tif']}]},\n",
       "        {'name': 'load', 'args': ['examples/tiles_cog/small_tci_3_1.tif']}]},\n",
       "      {'name': 'load', 'args': ['examples/tiles_cog/small_tci_3_2.tif']}]},\n",
       "    {'name': 'load', 'args': ['examples/tiles_cog/small_tci_3_3.tif']}]},\n",
       "  {'name': 'load', 'args': ['examples/tiles_cog/small_tci_3_4.tif']}]}"
      ]
     },
     "execution_count": 15,
     "metadata": {},
     "output_type": "execute_result"
    }
   ],
   "source": [
    "new_img.graph"
   ]
  },
  {
   "cell_type": "code",
   "execution_count": 16,
   "id": "d5f929a1-068c-410b-8273-e662deebcb5d",
   "metadata": {},
   "outputs": [],
   "source": [
    "from rasterio.warp import transform_bounds"
   ]
  },
  {
   "cell_type": "code",
   "execution_count": 17,
   "id": "a3d3fee2-e10b-4b66-b932-6ac94f94dc07",
   "metadata": {},
   "outputs": [
    {
     "data": {
      "text/plain": [
       "{'crs': 'EPSG:32630',\n",
       " 'bounds': [573760.0, 5489510.0, 610460.0, 5510930.0],\n",
       " 'map_bounds': [-1.98019740485087,\n",
       "  49.54811254183769,\n",
       "  -1.4669059289362074,\n",
       "  49.74632896368088],\n",
       " 'band_names': ['B1', 'B2', 'B3'],\n",
       " 'dtype': \"<class 'numpy.float64'>\",\n",
       " 'min_zoom': 9,\n",
       " 'max_zoom': 13}"
      ]
     },
     "execution_count": 17,
     "metadata": {},
     "output_type": "execute_result"
    }
   ],
   "source": [
    "new_img.info"
   ]
  },
  {
   "cell_type": "code",
   "execution_count": 18,
   "id": "b79aca21-4887-4b67-9a82-6559e7521dbf",
   "metadata": {},
   "outputs": [
    {
     "data": {
      "text/plain": [
       "(573469.4688662735, 5488889.345627183, 610896.6842112895, 5511554.869245463)"
      ]
     },
     "execution_count": 18,
     "metadata": {},
     "output_type": "execute_result"
    }
   ],
   "source": [
    "transform_bounds(\"epsg:4326\", new_img.crs, *new_img.map_bounds)"
   ]
  },
  {
   "cell_type": "code",
   "execution_count": 19,
   "id": "4aa0ecfd-e62f-4de7-80dd-3ac340fc8a7e",
   "metadata": {},
   "outputs": [
    {
     "data": {
      "text/plain": [
       "[573760.0, 5489510.0, 610460.0, 5510930.0]"
      ]
     },
     "execution_count": 19,
     "metadata": {},
     "output_type": "execute_result"
    }
   ],
   "source": [
    "new_img.bounds"
   ]
  },
  {
   "cell_type": "code",
   "execution_count": 20,
   "id": "aaa47d04-9c62-4583-9f3a-0e6325dcc241",
   "metadata": {},
   "outputs": [
    {
     "data": {
      "text/plain": [
       "(573469.4688662735, 5488889.345627183, 610896.6842112895, 5511554.869245463)"
      ]
     },
     "execution_count": 20,
     "metadata": {},
     "output_type": "execute_result"
    }
   ],
   "source": [
    "map_bounds = transform_bounds(new_img.crs, \"epsg:4326\", *new_img.bounds)\n",
    "transform_bounds(\"epsg:4326\", new_img.crs, *map_bounds)"
   ]
  },
  {
   "cell_type": "code",
   "execution_count": 21,
   "id": "f0309387-26aa-4263-8cf7-20af77455638",
   "metadata": {},
   "outputs": [
    {
     "data": {
      "text/plain": [
       "<Axes: >"
      ]
     },
     "execution_count": 21,
     "metadata": {},
     "output_type": "execute_result"
    },
    {
     "data": {
      "image/png": "[encoded data removed]",
      "text/plain": [
       "<Figure size 640x480 with 1 Axes>"
      ]
     },
     "metadata": {},
     "output_type": "display_data"
    }
   ],
   "source": [
    "from pyproj import CRS, Transformer\n",
    "from shapely.ops import transform, unary_union\n",
    "from shapely.geometry import box, mapping\n",
    "import geopandas as gpd\n",
    "\n",
    "bbox = box(*new_img.bounds)\n",
    "map_bbox = box(*transform_bounds(\"epsg:4326\", new_img.crs, *new_img.map_bounds))\n",
    "\n",
    "bboxes_df = gpd.GeoDataFrame(geometry=[bbox, map_bbox])\n",
    "bboxes_df.boundary.plot()"
   ]
  },
  {
   "cell_type": "code",
   "execution_count": 22,
   "id": "7486430a-ea99-40e1-8f0e-1d3e27ad299a",
   "metadata": {},
   "outputs": [
    {
     "data": {
      "text/plain": [
       "{'type': 'Polygon',\n",
       " 'coordinates': (((-1.4669059289362074, 49.54811254183769),\n",
       "   (-1.4669059289362074, 49.74632896368088),\n",
       "   (-1.98019740485087, 49.74632896368088),\n",
       "   (-1.98019740485087, 49.54811254183769),\n",
       "   (-1.4669059289362074, 49.54811254183769)),)}"
      ]
     },
     "execution_count": 22,
     "metadata": {},
     "output_type": "execute_result"
    }
   ],
   "source": [
    "mapping(box(*new_img.map_bounds))"
   ]
  },
  {
   "cell_type": "code",
   "execution_count": 23,
   "id": "87a99d72-837a-4ff9-b678-00795d303eff",
   "metadata": {},
   "outputs": [
    {
     "data": {
      "text/html": [
       "<div style=\"width:100%;\"><div style=\"position:relative;width:100%;height:0;padding-bottom:60%;\"><span style=\"color:#565656\">Make this Notebook Trusted to load map: File -> Trust Notebook</span><iframe srcdoc=\"&lt;!DOCTYPE html&gt;\n",
       "&lt;html&gt;\n",
       "&lt;head&gt;\n",
       "    \n",
       "    &lt;meta http-equiv=&quot;content-type&quot; content=&quot;text/html; charset=UTF-8&quot; /&gt;\n",
       "    \n",
       "        &lt;script&gt;\n",
       "            L_NO_TOUCH = false;\n",
       "            L_DISABLE_3D = false;\n",
       "        &lt;/script&gt;\n",
       "    \n",
       "    &lt;style&gt;html, body {width: 100%;height: 100%;margin: 0;padding: 0;}&lt;/style&gt;\n",
       "    &lt;style&gt;#map {position:absolute;top:0;bottom:0;right:0;left:0;}&lt;/style&gt;\n",
       "    &lt;script src=&quot;https://cdn.jsdelivr.net/npm/leaflet@1.6.0/dist/leaflet.js&quot;&gt;&lt;/script&gt;\n",
       "    &lt;script src=&quot;https://code.jquery.com/jquery-1.12.4.min.js&quot;&gt;&lt;/script&gt;\n",
       "    &lt;script src=&quot;https://maxcdn.bootstrapcdn.com/bootstrap/3.2.0/js/bootstrap.min.js&quot;&gt;&lt;/script&gt;\n",
       "    &lt;script src=&quot;https://cdnjs.cloudflare.com/ajax/libs/Leaflet.awesome-markers/2.0.2/leaflet.awesome-markers.js&quot;&gt;&lt;/script&gt;\n",
       "    &lt;link rel=&quot;stylesheet&quot; href=&quot;https://cdn.jsdelivr.net/npm/leaflet@1.6.0/dist/leaflet.css&quot;/&gt;\n",
       "    &lt;link rel=&quot;stylesheet&quot; href=&quot;https://maxcdn.bootstrapcdn.com/bootstrap/3.2.0/css/bootstrap.min.css&quot;/&gt;\n",
       "    &lt;link rel=&quot;stylesheet&quot; href=&quot;https://maxcdn.bootstrapcdn.com/bootstrap/3.2.0/css/bootstrap-theme.min.css&quot;/&gt;\n",
       "    &lt;link rel=&quot;stylesheet&quot; href=&quot;https://maxcdn.bootstrapcdn.com/font-awesome/4.6.3/css/font-awesome.min.css&quot;/&gt;\n",
       "    &lt;link rel=&quot;stylesheet&quot; href=&quot;https://cdnjs.cloudflare.com/ajax/libs/Leaflet.awesome-markers/2.0.2/leaflet.awesome-markers.css&quot;/&gt;\n",
       "    &lt;link rel=&quot;stylesheet&quot; href=&quot;https://cdn.jsdelivr.net/gh/python-visualization/folium/folium/templates/leaflet.awesome.rotate.min.css&quot;/&gt;\n",
       "    \n",
       "            &lt;meta name=&quot;viewport&quot; content=&quot;width=device-width,\n",
       "                initial-scale=1.0, maximum-scale=1.0, user-scalable=no&quot; /&gt;\n",
       "            &lt;style&gt;\n",
       "                #map_cadab3ac549d0045ac7961914dc2fdd1 {\n",
       "                    position: relative;\n",
       "                    width: 100.0%;\n",
       "                    height: 100.0%;\n",
       "                    left: 0.0%;\n",
       "                    top: 0.0%;\n",
       "                }\n",
       "            &lt;/style&gt;\n",
       "        \n",
       "&lt;/head&gt;\n",
       "&lt;body&gt;\n",
       "    \n",
       "    \n",
       "            &lt;div class=&quot;folium-map&quot; id=&quot;map_cadab3ac549d0045ac7961914dc2fdd1&quot; &gt;&lt;/div&gt;\n",
       "        \n",
       "&lt;/body&gt;\n",
       "&lt;script&gt;\n",
       "    \n",
       "    \n",
       "            var map_cadab3ac549d0045ac7961914dc2fdd1 = L.map(\n",
       "                &quot;map_cadab3ac549d0045ac7961914dc2fdd1&quot;,\n",
       "                {\n",
       "                    center: [49.64746484638939, -1.724064228348934],\n",
       "                    crs: L.CRS.EPSG3857,\n",
       "                    zoom: 8,\n",
       "                    zoomControl: true,\n",
       "                    preferCanvas: false,\n",
       "                }\n",
       "            );\n",
       "\n",
       "            \n",
       "\n",
       "        \n",
       "    \n",
       "            var tile_layer_9d6ef9985a2359a51f6d27f28707cdaa = L.tileLayer(\n",
       "                &quot;https://{s}.tile.openstreetmap.org/{z}/{x}/{y}.png&quot;,\n",
       "                {&quot;attribution&quot;: &quot;Data by \\u0026copy; \\u003ca href=\\&quot;http://openstreetmap.org\\&quot;\\u003eOpenStreetMap\\u003c/a\\u003e, under \\u003ca href=\\&quot;http://www.openstreetmap.org/copyright\\&quot;\\u003eODbL\\u003c/a\\u003e.&quot;, &quot;detectRetina&quot;: false, &quot;maxNativeZoom&quot;: 18, &quot;maxZoom&quot;: 18, &quot;minZoom&quot;: 0, &quot;noWrap&quot;: false, &quot;opacity&quot;: 1, &quot;subdomains&quot;: &quot;abc&quot;, &quot;tms&quot;: false}\n",
       "            ).addTo(map_cadab3ac549d0045ac7961914dc2fdd1);\n",
       "        \n",
       "    \n",
       "            var tile_layer_a6abe17f21d8fc053c261f6bb2570802 = L.tileLayer(\n",
       "                &quot;http://localhost:8000/tiles/cdfe9660-c8d9-4cc0-b782-f251dea2b90b/{z}/{x}/{y}.png&quot;,\n",
       "                {&quot;attribution&quot;: &quot;Map data from geoproc :-)&quot;, &quot;bounds&quot;: [[49.54811254183769, -1.98019740485087], [49.74632896368088, -1.4669059289362074]], &quot;detectRetina&quot;: false, &quot;maxNativeZoom&quot;: 18, &quot;maxZoom&quot;: 18, &quot;minNativeZoom&quot;: 9, &quot;minZoom&quot;: 0, &quot;noWrap&quot;: false, &quot;opacity&quot;: 1, &quot;subdomains&quot;: &quot;abc&quot;, &quot;tms&quot;: false}\n",
       "            ).addTo(map_cadab3ac549d0045ac7961914dc2fdd1);\n",
       "        \n",
       "    \n",
       "            var layer_control_a503b17b40216c253fe52d64abfed299 = {\n",
       "                base_layers : {\n",
       "                    &quot;openstreetmap&quot; : tile_layer_9d6ef9985a2359a51f6d27f28707cdaa,\n",
       "                },\n",
       "                overlays :  {\n",
       "                    &quot;merged&quot; : tile_layer_a6abe17f21d8fc053c261f6bb2570802,\n",
       "                },\n",
       "            };\n",
       "            L.control.layers(\n",
       "                layer_control_a503b17b40216c253fe52d64abfed299.base_layers,\n",
       "                layer_control_a503b17b40216c253fe52d64abfed299.overlays,\n",
       "                {&quot;autoZIndex&quot;: true, &quot;collapsed&quot;: false, &quot;position&quot;: &quot;topright&quot;}\n",
       "            ).addTo(map_cadab3ac549d0045ac7961914dc2fdd1);\n",
       "        \n",
       "    \n",
       "            map_cadab3ac549d0045ac7961914dc2fdd1.fitBounds(\n",
       "                [[49.54811254183769, -1.98019740485087], [49.74632896368088, -1.4669059289362074]],\n",
       "                {}\n",
       "            );\n",
       "        \n",
       "&lt;/script&gt;\n",
       "&lt;/html&gt;\" style=\"position:absolute;width:100%;height:100%;left:0;top:0;border:none !important;\" allowfullscreen webkitallowfullscreen mozallowfullscreen></iframe></div></div>"
      ],
      "text/plain": [
       "<folium.folium.Map at 0x12f04d050>"
      ]
     },
     "metadata": {},
     "output_type": "display_data"
    }
   ],
   "source": [
    "# Define a map centered on southern Maine.\n",
    "m = folium.Map(location=[49.64746484638939, -1.724064228348934], zoom_start=8)\n",
    "\n",
    "# Add the image layer to the map and display it.\n",
    "m.add_layer(new_img, 'merged')\n",
    "m.fit_to_image(new_img)\n",
    "\n",
    "# latlon_bounds = [new_img.map_bounds[1], new_img.map_bounds[0], new_img.map_bounds[3], new_img.map_bounds[2]]\n",
    "# geo_bounds = folium.GeoJson(data=mapping(box(*latlon_bounds)), style_function=lambda x: {'fillColor': 'orange'})\n",
    "# geo_bounds.add_to(m)\n",
    "\n",
    "display(m)"
   ]
  },
  {
   "cell_type": "code",
   "execution_count": 24,
   "id": "7a7877cf-333a-4424-b82c-797d50125a60",
   "metadata": {},
   "outputs": [],
   "source": [
    "img = Image(\"examples/tiles_cog/small_tci_1_1.tif\")"
   ]
  },
  {
   "cell_type": "code",
   "execution_count": 25,
   "id": "4587afcf-e382-4564-bd20-12cfb712888d",
   "metadata": {},
   "outputs": [
    {
     "data": {
      "text/plain": [
       "{'result': 'ok'}"
      ]
     },
     "execution_count": 25,
     "metadata": {},
     "output_type": "execute_result"
    }
   ],
   "source": [
    "img.export(\"tmp/small_aoi_1.tif\", scale=10, bounds=(-1.9501848031186266, 49.6786269549578634, -1.9166549106804431,49.6961130287977397))"
   ]
  },
  {
   "cell_type": "code",
   "execution_count": 26,
   "id": "ec9b98f2-38e4-4f8e-8b99-377e989bd874",
   "metadata": {},
   "outputs": [
    {
     "data": {
      "text/plain": [
       "{'result': 'ok'}"
      ]
     },
     "execution_count": 26,
     "metadata": {},
     "output_type": "execute_result"
    }
   ],
   "source": [
    "img.export(\"tmp/small_aoi_2.tif\", scale=50, crs=\"epsg:32630\", bounds=(-1.9293047014294760,49.6893917308600663,-1.8960423816304390,49.7036349607845409))"
   ]
  },
  {
   "cell_type": "code",
   "execution_count": 27,
   "id": "b12eb621-ff27-46f3-b6cd-66aca4e442b8",
   "metadata": {},
   "outputs": [
    {
     "data": {
      "text/plain": [
       "{'result': 'ok'}"
      ]
     },
     "execution_count": 27,
     "metadata": {},
     "output_type": "execute_result"
    }
   ],
   "source": [
    "add_img = Image(\"tmp/small_aoi_1.tif\") + Image(\"tmp/small_aoi_2.tif\")\n",
    "add_img.export(\"tmp/added.tif\", scale=10)"
   ]
  },
  {
   "cell_type": "code",
   "execution_count": 28,
   "id": "b5c7bc98-2d65-45a6-948e-f4a7ae717f38",
   "metadata": {},
   "outputs": [
    {
     "data": {
      "text/html": [
       "<div style=\"width:100%;\"><div style=\"position:relative;width:100%;height:0;padding-bottom:60%;\"><span style=\"color:#565656\">Make this Notebook Trusted to load map: File -> Trust Notebook</span><iframe srcdoc=\"&lt;!DOCTYPE html&gt;\n",
       "&lt;html&gt;\n",
       "&lt;head&gt;\n",
       "    \n",
       "    &lt;meta http-equiv=&quot;content-type&quot; content=&quot;text/html; charset=UTF-8&quot; /&gt;\n",
       "    \n",
       "        &lt;script&gt;\n",
       "            L_NO_TOUCH = false;\n",
       "            L_DISABLE_3D = false;\n",
       "        &lt;/script&gt;\n",
       "    \n",
       "    &lt;style&gt;html, body {width: 100%;height: 100%;margin: 0;padding: 0;}&lt;/style&gt;\n",
       "    &lt;style&gt;#map {position:absolute;top:0;bottom:0;right:0;left:0;}&lt;/style&gt;\n",
       "    &lt;script src=&quot;https://cdn.jsdelivr.net/npm/leaflet@1.6.0/dist/leaflet.js&quot;&gt;&lt;/script&gt;\n",
       "    &lt;script src=&quot;https://code.jquery.com/jquery-1.12.4.min.js&quot;&gt;&lt;/script&gt;\n",
       "    &lt;script src=&quot;https://maxcdn.bootstrapcdn.com/bootstrap/3.2.0/js/bootstrap.min.js&quot;&gt;&lt;/script&gt;\n",
       "    &lt;script src=&quot;https://cdnjs.cloudflare.com/ajax/libs/Leaflet.awesome-markers/2.0.2/leaflet.awesome-markers.js&quot;&gt;&lt;/script&gt;\n",
       "    &lt;link rel=&quot;stylesheet&quot; href=&quot;https://cdn.jsdelivr.net/npm/leaflet@1.6.0/dist/leaflet.css&quot;/&gt;\n",
       "    &lt;link rel=&quot;stylesheet&quot; href=&quot;https://maxcdn.bootstrapcdn.com/bootstrap/3.2.0/css/bootstrap.min.css&quot;/&gt;\n",
       "    &lt;link rel=&quot;stylesheet&quot; href=&quot;https://maxcdn.bootstrapcdn.com/bootstrap/3.2.0/css/bootstrap-theme.min.css&quot;/&gt;\n",
       "    &lt;link rel=&quot;stylesheet&quot; href=&quot;https://maxcdn.bootstrapcdn.com/font-awesome/4.6.3/css/font-awesome.min.css&quot;/&gt;\n",
       "    &lt;link rel=&quot;stylesheet&quot; href=&quot;https://cdnjs.cloudflare.com/ajax/libs/Leaflet.awesome-markers/2.0.2/leaflet.awesome-markers.css&quot;/&gt;\n",
       "    &lt;link rel=&quot;stylesheet&quot; href=&quot;https://cdn.jsdelivr.net/gh/python-visualization/folium/folium/templates/leaflet.awesome.rotate.min.css&quot;/&gt;\n",
       "    \n",
       "            &lt;meta name=&quot;viewport&quot; content=&quot;width=device-width,\n",
       "                initial-scale=1.0, maximum-scale=1.0, user-scalable=no&quot; /&gt;\n",
       "            &lt;style&gt;\n",
       "                #map_c020a9deeb41b9fd2c040f46a63bf05d {\n",
       "                    position: relative;\n",
       "                    width: 100.0%;\n",
       "                    height: 100.0%;\n",
       "                    left: 0.0%;\n",
       "                    top: 0.0%;\n",
       "                }\n",
       "            &lt;/style&gt;\n",
       "        \n",
       "&lt;/head&gt;\n",
       "&lt;body&gt;\n",
       "    \n",
       "    \n",
       "            &lt;div class=&quot;folium-map&quot; id=&quot;map_c020a9deeb41b9fd2c040f46a63bf05d&quot; &gt;&lt;/div&gt;\n",
       "        \n",
       "&lt;/body&gt;\n",
       "&lt;script&gt;\n",
       "    \n",
       "    \n",
       "            var map_c020a9deeb41b9fd2c040f46a63bf05d = L.map(\n",
       "                &quot;map_c020a9deeb41b9fd2c040f46a63bf05d&quot;,\n",
       "                {\n",
       "                    center: [49.64746484638939, -1.724064228348934],\n",
       "                    crs: L.CRS.EPSG3857,\n",
       "                    zoom: 11,\n",
       "                    zoomControl: true,\n",
       "                    preferCanvas: false,\n",
       "                }\n",
       "            );\n",
       "\n",
       "            \n",
       "\n",
       "        \n",
       "    \n",
       "            var tile_layer_f7a9603f5aa856cdabc03ba6b6b7156b = L.tileLayer(\n",
       "                &quot;https://{s}.tile.openstreetmap.org/{z}/{x}/{y}.png&quot;,\n",
       "                {&quot;attribution&quot;: &quot;Data by \\u0026copy; \\u003ca href=\\&quot;http://openstreetmap.org\\&quot;\\u003eOpenStreetMap\\u003c/a\\u003e, under \\u003ca href=\\&quot;http://www.openstreetmap.org/copyright\\&quot;\\u003eODbL\\u003c/a\\u003e.&quot;, &quot;detectRetina&quot;: false, &quot;maxNativeZoom&quot;: 18, &quot;maxZoom&quot;: 18, &quot;minZoom&quot;: 0, &quot;noWrap&quot;: false, &quot;opacity&quot;: 1, &quot;subdomains&quot;: &quot;abc&quot;, &quot;tms&quot;: false}\n",
       "            ).addTo(map_c020a9deeb41b9fd2c040f46a63bf05d);\n",
       "        \n",
       "    \n",
       "            var tile_layer_12da0140080f9012b61ac5993d29aaf0 = L.tileLayer(\n",
       "                &quot;http://localhost:8000/tiles/e5917d79-a33a-4f84-9e71-05f81ce46cfa/{z}/{x}/{y}.png&quot;,\n",
       "                {&quot;attribution&quot;: &quot;Map data from geoproc :-)&quot;, &quot;bounds&quot;: [[49.67862695495786, -1.9501848031186266], [49.70394718445842, -1.8957197121153901]], &quot;detectRetina&quot;: false, &quot;maxNativeZoom&quot;: 18, &quot;maxZoom&quot;: 18, &quot;minNativeZoom&quot;: 13, &quot;minZoom&quot;: 0, &quot;noWrap&quot;: false, &quot;opacity&quot;: 1, &quot;subdomains&quot;: &quot;abc&quot;, &quot;tms&quot;: false}\n",
       "            ).addTo(map_c020a9deeb41b9fd2c040f46a63bf05d);\n",
       "        \n",
       "    \n",
       "            var layer_control_c2da3dcedf5e67ed7d0874ab5b3c0cdd = {\n",
       "                base_layers : {\n",
       "                    &quot;openstreetmap&quot; : tile_layer_f7a9603f5aa856cdabc03ba6b6b7156b,\n",
       "                },\n",
       "                overlays :  {\n",
       "                    &quot;added&quot; : tile_layer_12da0140080f9012b61ac5993d29aaf0,\n",
       "                },\n",
       "            };\n",
       "            L.control.layers(\n",
       "                layer_control_c2da3dcedf5e67ed7d0874ab5b3c0cdd.base_layers,\n",
       "                layer_control_c2da3dcedf5e67ed7d0874ab5b3c0cdd.overlays,\n",
       "                {&quot;autoZIndex&quot;: true, &quot;collapsed&quot;: false, &quot;position&quot;: &quot;topright&quot;}\n",
       "            ).addTo(map_c020a9deeb41b9fd2c040f46a63bf05d);\n",
       "        \n",
       "    \n",
       "            map_c020a9deeb41b9fd2c040f46a63bf05d.fitBounds(\n",
       "                [[49.67862695495786, -1.9501848031186266], [49.70394718445842, -1.8957197121153901]],\n",
       "                {}\n",
       "            );\n",
       "        \n",
       "    \n",
       "            var layer_control_be0db2f56e53c7b1c24d6277384b897d = {\n",
       "                base_layers : {\n",
       "                    &quot;openstreetmap&quot; : tile_layer_f7a9603f5aa856cdabc03ba6b6b7156b,\n",
       "                },\n",
       "                overlays :  {\n",
       "                    &quot;added&quot; : tile_layer_12da0140080f9012b61ac5993d29aaf0,\n",
       "                },\n",
       "            };\n",
       "            L.control.layers(\n",
       "                layer_control_be0db2f56e53c7b1c24d6277384b897d.base_layers,\n",
       "                layer_control_be0db2f56e53c7b1c24d6277384b897d.overlays,\n",
       "                {&quot;autoZIndex&quot;: true, &quot;collapsed&quot;: true, &quot;position&quot;: &quot;topright&quot;}\n",
       "            ).addTo(map_c020a9deeb41b9fd2c040f46a63bf05d);\n",
       "        \n",
       "&lt;/script&gt;\n",
       "&lt;/html&gt;\" style=\"position:absolute;width:100%;height:100%;left:0;top:0;border:none !important;\" allowfullscreen webkitallowfullscreen mozallowfullscreen></iframe></div></div>"
      ],
      "text/plain": [
       "<folium.folium.Map at 0x2841ed9d0>"
      ]
     },
     "metadata": {},
     "output_type": "display_data"
    }
   ],
   "source": [
    "# Define a map centered on southern Maine.\n",
    "map_tci = folium.Map(location=[49.64746484638939, -1.724064228348934], zoom_start=11)\n",
    "\n",
    "# Add the image layer to the map and display it.\n",
    "map_tci.add_layer(add_img, 'added')\n",
    "map_tci.fit_to_image(add_img)\n",
    "folium.LayerControl().add_to(map_tci)\n",
    "\n",
    "display(map_tci)"
   ]
  },
  {
   "cell_type": "markdown",
   "id": "d1c527b9-2992-469b-8828-db741ad8307f",
   "metadata": {},
   "source": [
    "## Visualization"
   ]
  },
  {
   "cell_type": "code",
   "execution_count": 29,
   "id": "0f26068b-9320-4d52-a2de-5e3c3cf5268e",
   "metadata": {},
   "outputs": [],
   "source": [
    "img = Image(\"examples/small_tci.tif\")"
   ]
  },
  {
   "cell_type": "code",
   "execution_count": 30,
   "id": "045589b0-249d-4793-b778-98ce53cecffb",
   "metadata": {},
   "outputs": [
    {
     "data": {
      "text/html": [
       "<div style=\"width:100%;\"><div style=\"position:relative;width:100%;height:0;padding-bottom:60%;\"><span style=\"color:#565656\">Make this Notebook Trusted to load map: File -> Trust Notebook</span><iframe srcdoc=\"&lt;!DOCTYPE html&gt;\n",
       "&lt;html&gt;\n",
       "&lt;head&gt;\n",
       "    \n",
       "    &lt;meta http-equiv=&quot;content-type&quot; content=&quot;text/html; charset=UTF-8&quot; /&gt;\n",
       "    \n",
       "        &lt;script&gt;\n",
       "            L_NO_TOUCH = false;\n",
       "            L_DISABLE_3D = false;\n",
       "        &lt;/script&gt;\n",
       "    \n",
       "    &lt;style&gt;html, body {width: 100%;height: 100%;margin: 0;padding: 0;}&lt;/style&gt;\n",
       "    &lt;style&gt;#map {position:absolute;top:0;bottom:0;right:0;left:0;}&lt;/style&gt;\n",
       "    &lt;script src=&quot;https://cdn.jsdelivr.net/npm/leaflet@1.6.0/dist/leaflet.js&quot;&gt;&lt;/script&gt;\n",
       "    &lt;script src=&quot;https://code.jquery.com/jquery-1.12.4.min.js&quot;&gt;&lt;/script&gt;\n",
       "    &lt;script src=&quot;https://maxcdn.bootstrapcdn.com/bootstrap/3.2.0/js/bootstrap.min.js&quot;&gt;&lt;/script&gt;\n",
       "    &lt;script src=&quot;https://cdnjs.cloudflare.com/ajax/libs/Leaflet.awesome-markers/2.0.2/leaflet.awesome-markers.js&quot;&gt;&lt;/script&gt;\n",
       "    &lt;link rel=&quot;stylesheet&quot; href=&quot;https://cdn.jsdelivr.net/npm/leaflet@1.6.0/dist/leaflet.css&quot;/&gt;\n",
       "    &lt;link rel=&quot;stylesheet&quot; href=&quot;https://maxcdn.bootstrapcdn.com/bootstrap/3.2.0/css/bootstrap.min.css&quot;/&gt;\n",
       "    &lt;link rel=&quot;stylesheet&quot; href=&quot;https://maxcdn.bootstrapcdn.com/bootstrap/3.2.0/css/bootstrap-theme.min.css&quot;/&gt;\n",
       "    &lt;link rel=&quot;stylesheet&quot; href=&quot;https://maxcdn.bootstrapcdn.com/font-awesome/4.6.3/css/font-awesome.min.css&quot;/&gt;\n",
       "    &lt;link rel=&quot;stylesheet&quot; href=&quot;https://cdnjs.cloudflare.com/ajax/libs/Leaflet.awesome-markers/2.0.2/leaflet.awesome-markers.css&quot;/&gt;\n",
       "    &lt;link rel=&quot;stylesheet&quot; href=&quot;https://cdn.jsdelivr.net/gh/python-visualization/folium/folium/templates/leaflet.awesome.rotate.min.css&quot;/&gt;\n",
       "    \n",
       "            &lt;meta name=&quot;viewport&quot; content=&quot;width=device-width,\n",
       "                initial-scale=1.0, maximum-scale=1.0, user-scalable=no&quot; /&gt;\n",
       "            &lt;style&gt;\n",
       "                #map_2a2105820e1c2aa0850bd4328996051e {\n",
       "                    position: relative;\n",
       "                    width: 100.0%;\n",
       "                    height: 100.0%;\n",
       "                    left: 0.0%;\n",
       "                    top: 0.0%;\n",
       "                }\n",
       "            &lt;/style&gt;\n",
       "        \n",
       "&lt;/head&gt;\n",
       "&lt;body&gt;\n",
       "    \n",
       "    \n",
       "            &lt;div class=&quot;folium-map&quot; id=&quot;map_2a2105820e1c2aa0850bd4328996051e&quot; &gt;&lt;/div&gt;\n",
       "        \n",
       "&lt;/body&gt;\n",
       "&lt;script&gt;\n",
       "    \n",
       "    \n",
       "            var map_2a2105820e1c2aa0850bd4328996051e = L.map(\n",
       "                &quot;map_2a2105820e1c2aa0850bd4328996051e&quot;,\n",
       "                {\n",
       "                    center: [49.64746484638939, -1.724064228348934],\n",
       "                    crs: L.CRS.EPSG3857,\n",
       "                    zoom: 11,\n",
       "                    zoomControl: true,\n",
       "                    preferCanvas: false,\n",
       "                }\n",
       "            );\n",
       "\n",
       "            \n",
       "\n",
       "        \n",
       "    \n",
       "            var tile_layer_53022f58574de0a7c04e9edd0cbf02dd = L.tileLayer(\n",
       "                &quot;https://{s}.tile.openstreetmap.org/{z}/{x}/{y}.png&quot;,\n",
       "                {&quot;attribution&quot;: &quot;Data by \\u0026copy; \\u003ca href=\\&quot;http://openstreetmap.org\\&quot;\\u003eOpenStreetMap\\u003c/a\\u003e, under \\u003ca href=\\&quot;http://www.openstreetmap.org/copyright\\&quot;\\u003eODbL\\u003c/a\\u003e.&quot;, &quot;detectRetina&quot;: false, &quot;maxNativeZoom&quot;: 18, &quot;maxZoom&quot;: 18, &quot;minZoom&quot;: 0, &quot;noWrap&quot;: false, &quot;opacity&quot;: 1, &quot;subdomains&quot;: &quot;abc&quot;, &quot;tms&quot;: false}\n",
       "            ).addTo(map_2a2105820e1c2aa0850bd4328996051e);\n",
       "        \n",
       "    \n",
       "            var tile_layer_61d56f5fc1eb0d95c5084826f7cd021b = L.tileLayer(\n",
       "                &quot;http://localhost:8000/tiles/a1ee9ee3-ae2c-40a7-a7bc-2249f872cf08/{z}/{x}/{y}.png&quot;,\n",
       "                {&quot;attribution&quot;: &quot;Map data from geoproc :-)&quot;, &quot;bounds&quot;: [[49.54811254183769, -1.98019740485087], [49.74632896368088, -1.4669059289362074]], &quot;detectRetina&quot;: false, &quot;maxNativeZoom&quot;: 18, &quot;maxZoom&quot;: 18, &quot;minNativeZoom&quot;: 9, &quot;minZoom&quot;: 0, &quot;noWrap&quot;: false, &quot;opacity&quot;: 1, &quot;subdomains&quot;: &quot;abc&quot;, &quot;tms&quot;: false}\n",
       "            ).addTo(map_2a2105820e1c2aa0850bd4328996051e);\n",
       "        \n",
       "    \n",
       "            var layer_control_8f00adfb9bf9a8184b73c459705bdb86 = {\n",
       "                base_layers : {\n",
       "                    &quot;openstreetmap&quot; : tile_layer_53022f58574de0a7c04e9edd0cbf02dd,\n",
       "                },\n",
       "                overlays :  {\n",
       "                    &quot;merged&quot; : tile_layer_61d56f5fc1eb0d95c5084826f7cd021b,\n",
       "                },\n",
       "            };\n",
       "            L.control.layers(\n",
       "                layer_control_8f00adfb9bf9a8184b73c459705bdb86.base_layers,\n",
       "                layer_control_8f00adfb9bf9a8184b73c459705bdb86.overlays,\n",
       "                {&quot;autoZIndex&quot;: true, &quot;collapsed&quot;: false, &quot;position&quot;: &quot;topright&quot;}\n",
       "            ).addTo(map_2a2105820e1c2aa0850bd4328996051e);\n",
       "        \n",
       "    \n",
       "            var layer_control_c89e062505c29643e380deed9794a7cd = {\n",
       "                base_layers : {\n",
       "                    &quot;openstreetmap&quot; : tile_layer_53022f58574de0a7c04e9edd0cbf02dd,\n",
       "                },\n",
       "                overlays :  {\n",
       "                    &quot;merged&quot; : tile_layer_61d56f5fc1eb0d95c5084826f7cd021b,\n",
       "                },\n",
       "            };\n",
       "            L.control.layers(\n",
       "                layer_control_c89e062505c29643e380deed9794a7cd.base_layers,\n",
       "                layer_control_c89e062505c29643e380deed9794a7cd.overlays,\n",
       "                {&quot;autoZIndex&quot;: true, &quot;collapsed&quot;: true, &quot;position&quot;: &quot;topright&quot;}\n",
       "            ).addTo(map_2a2105820e1c2aa0850bd4328996051e);\n",
       "        \n",
       "&lt;/script&gt;\n",
       "&lt;/html&gt;\" style=\"position:absolute;width:100%;height:100%;left:0;top:0;border:none !important;\" allowfullscreen webkitallowfullscreen mozallowfullscreen></iframe></div></div>"
      ],
      "text/plain": [
       "<folium.folium.Map at 0x177cc30d0>"
      ]
     },
     "metadata": {},
     "output_type": "display_data"
    }
   ],
   "source": [
    "# Define a map centered on southern Maine.\n",
    "map_tci = folium.Map(location=[49.64746484638939, -1.724064228348934], zoom_start=11)\n",
    "\n",
    "# Add the image layer to the map and display it.\n",
    "map_tci.add_layer(img, 'merged', {\"bands\": [\"B3\"]})\n",
    "folium.LayerControl().add_to(map_tci)\n",
    "\n",
    "display(map_tci)"
   ]
  },
  {
   "cell_type": "code",
   "execution_count": 31,
   "id": "b1680aeb-10ed-4e41-85b1-5e60045ba1c1",
   "metadata": {},
   "outputs": [
    {
     "data": {
      "text/html": [
       "<div style=\"width:100%;\"><div style=\"position:relative;width:100%;height:0;padding-bottom:60%;\"><span style=\"color:#565656\">Make this Notebook Trusted to load map: File -> Trust Notebook</span><iframe srcdoc=\"&lt;!DOCTYPE html&gt;\n",
       "&lt;html&gt;\n",
       "&lt;head&gt;\n",
       "    \n",
       "    &lt;meta http-equiv=&quot;content-type&quot; content=&quot;text/html; charset=UTF-8&quot; /&gt;\n",
       "    \n",
       "        &lt;script&gt;\n",
       "            L_NO_TOUCH = false;\n",
       "            L_DISABLE_3D = false;\n",
       "        &lt;/script&gt;\n",
       "    \n",
       "    &lt;style&gt;html, body {width: 100%;height: 100%;margin: 0;padding: 0;}&lt;/style&gt;\n",
       "    &lt;style&gt;#map {position:absolute;top:0;bottom:0;right:0;left:0;}&lt;/style&gt;\n",
       "    &lt;script src=&quot;https://cdn.jsdelivr.net/npm/leaflet@1.6.0/dist/leaflet.js&quot;&gt;&lt;/script&gt;\n",
       "    &lt;script src=&quot;https://code.jquery.com/jquery-1.12.4.min.js&quot;&gt;&lt;/script&gt;\n",
       "    &lt;script src=&quot;https://maxcdn.bootstrapcdn.com/bootstrap/3.2.0/js/bootstrap.min.js&quot;&gt;&lt;/script&gt;\n",
       "    &lt;script src=&quot;https://cdnjs.cloudflare.com/ajax/libs/Leaflet.awesome-markers/2.0.2/leaflet.awesome-markers.js&quot;&gt;&lt;/script&gt;\n",
       "    &lt;link rel=&quot;stylesheet&quot; href=&quot;https://cdn.jsdelivr.net/npm/leaflet@1.6.0/dist/leaflet.css&quot;/&gt;\n",
       "    &lt;link rel=&quot;stylesheet&quot; href=&quot;https://maxcdn.bootstrapcdn.com/bootstrap/3.2.0/css/bootstrap.min.css&quot;/&gt;\n",
       "    &lt;link rel=&quot;stylesheet&quot; href=&quot;https://maxcdn.bootstrapcdn.com/bootstrap/3.2.0/css/bootstrap-theme.min.css&quot;/&gt;\n",
       "    &lt;link rel=&quot;stylesheet&quot; href=&quot;https://maxcdn.bootstrapcdn.com/font-awesome/4.6.3/css/font-awesome.min.css&quot;/&gt;\n",
       "    &lt;link rel=&quot;stylesheet&quot; href=&quot;https://cdnjs.cloudflare.com/ajax/libs/Leaflet.awesome-markers/2.0.2/leaflet.awesome-markers.css&quot;/&gt;\n",
       "    &lt;link rel=&quot;stylesheet&quot; href=&quot;https://cdn.jsdelivr.net/gh/python-visualization/folium/folium/templates/leaflet.awesome.rotate.min.css&quot;/&gt;\n",
       "    \n",
       "            &lt;meta name=&quot;viewport&quot; content=&quot;width=device-width,\n",
       "                initial-scale=1.0, maximum-scale=1.0, user-scalable=no&quot; /&gt;\n",
       "            &lt;style&gt;\n",
       "                #map_8191e7e9ed7bd76549d3724725096155 {\n",
       "                    position: relative;\n",
       "                    width: 100.0%;\n",
       "                    height: 100.0%;\n",
       "                    left: 0.0%;\n",
       "                    top: 0.0%;\n",
       "                }\n",
       "            &lt;/style&gt;\n",
       "        \n",
       "&lt;/head&gt;\n",
       "&lt;body&gt;\n",
       "    \n",
       "    \n",
       "            &lt;div class=&quot;folium-map&quot; id=&quot;map_8191e7e9ed7bd76549d3724725096155&quot; &gt;&lt;/div&gt;\n",
       "        \n",
       "&lt;/body&gt;\n",
       "&lt;script&gt;\n",
       "    \n",
       "    \n",
       "            var map_8191e7e9ed7bd76549d3724725096155 = L.map(\n",
       "                &quot;map_8191e7e9ed7bd76549d3724725096155&quot;,\n",
       "                {\n",
       "                    center: [49.64746484638939, -1.724064228348934],\n",
       "                    crs: L.CRS.EPSG3857,\n",
       "                    zoom: 11,\n",
       "                    zoomControl: true,\n",
       "                    preferCanvas: false,\n",
       "                }\n",
       "            );\n",
       "\n",
       "            \n",
       "\n",
       "        \n",
       "    \n",
       "            var tile_layer_07c4b95cb78c19fa59d60b1998feaa9d = L.tileLayer(\n",
       "                &quot;https://{s}.tile.openstreetmap.org/{z}/{x}/{y}.png&quot;,\n",
       "                {&quot;attribution&quot;: &quot;Data by \\u0026copy; \\u003ca href=\\&quot;http://openstreetmap.org\\&quot;\\u003eOpenStreetMap\\u003c/a\\u003e, under \\u003ca href=\\&quot;http://www.openstreetmap.org/copyright\\&quot;\\u003eODbL\\u003c/a\\u003e.&quot;, &quot;detectRetina&quot;: false, &quot;maxNativeZoom&quot;: 18, &quot;maxZoom&quot;: 18, &quot;minZoom&quot;: 0, &quot;noWrap&quot;: false, &quot;opacity&quot;: 1, &quot;subdomains&quot;: &quot;abc&quot;, &quot;tms&quot;: false}\n",
       "            ).addTo(map_8191e7e9ed7bd76549d3724725096155);\n",
       "        \n",
       "    \n",
       "            var tile_layer_416a59668fcd64d3e40d45601280a75c = L.tileLayer(\n",
       "                &quot;http://localhost:8000/tiles/eda94c78-21e4-4060-9d34-cb2b06235c34/{z}/{x}/{y}.png&quot;,\n",
       "                {&quot;attribution&quot;: &quot;Map data from geoproc :-)&quot;, &quot;bounds&quot;: [[49.54811254183769, -1.98019740485087], [49.74632896368088, -1.4669059289362074]], &quot;detectRetina&quot;: false, &quot;maxNativeZoom&quot;: 18, &quot;maxZoom&quot;: 18, &quot;minNativeZoom&quot;: 9, &quot;minZoom&quot;: 0, &quot;noWrap&quot;: false, &quot;opacity&quot;: 1, &quot;subdomains&quot;: &quot;abc&quot;, &quot;tms&quot;: false}\n",
       "            ).addTo(map_8191e7e9ed7bd76549d3724725096155);\n",
       "        \n",
       "    \n",
       "            var layer_control_c9b230a4ba28c737a0dfe658f7692679 = {\n",
       "                base_layers : {\n",
       "                    &quot;openstreetmap&quot; : tile_layer_07c4b95cb78c19fa59d60b1998feaa9d,\n",
       "                },\n",
       "                overlays :  {\n",
       "                    &quot;merged&quot; : tile_layer_416a59668fcd64d3e40d45601280a75c,\n",
       "                },\n",
       "            };\n",
       "            L.control.layers(\n",
       "                layer_control_c9b230a4ba28c737a0dfe658f7692679.base_layers,\n",
       "                layer_control_c9b230a4ba28c737a0dfe658f7692679.overlays,\n",
       "                {&quot;autoZIndex&quot;: true, &quot;collapsed&quot;: false, &quot;position&quot;: &quot;topright&quot;}\n",
       "            ).addTo(map_8191e7e9ed7bd76549d3724725096155);\n",
       "        \n",
       "    \n",
       "            var layer_control_eb95b84ca0a30cdb94513e7ba2a8592c = {\n",
       "                base_layers : {\n",
       "                    &quot;openstreetmap&quot; : tile_layer_07c4b95cb78c19fa59d60b1998feaa9d,\n",
       "                },\n",
       "                overlays :  {\n",
       "                    &quot;merged&quot; : tile_layer_416a59668fcd64d3e40d45601280a75c,\n",
       "                },\n",
       "            };\n",
       "            L.control.layers(\n",
       "                layer_control_eb95b84ca0a30cdb94513e7ba2a8592c.base_layers,\n",
       "                layer_control_eb95b84ca0a30cdb94513e7ba2a8592c.overlays,\n",
       "                {&quot;autoZIndex&quot;: true, &quot;collapsed&quot;: true, &quot;position&quot;: &quot;topright&quot;}\n",
       "            ).addTo(map_8191e7e9ed7bd76549d3724725096155);\n",
       "        \n",
       "&lt;/script&gt;\n",
       "&lt;/html&gt;\" style=\"position:absolute;width:100%;height:100%;left:0;top:0;border:none !important;\" allowfullscreen webkitallowfullscreen mozallowfullscreen></iframe></div></div>"
      ],
      "text/plain": [
       "<folium.folium.Map at 0x2842990d0>"
      ]
     },
     "metadata": {},
     "output_type": "display_data"
    }
   ],
   "source": [
    "# Define a map centered on southern Maine.\n",
    "map_tci = folium.Map(location=[49.64746484638939, -1.724064228348934], zoom_start=11)\n",
    "\n",
    "# Add the image layer to the map and display it.\n",
    "map_tci.add_layer(img, 'merged', {\"bands\": [\"b1\", \"b2\", \"b3\"], \"min\": 0, \"max\": 100})\n",
    "folium.LayerControl().add_to(map_tci)\n",
    "\n",
    "display(map_tci)"
   ]
  },
  {
   "cell_type": "code",
   "execution_count": 32,
   "id": "43d7a147-36a3-4337-a761-8c0fb1625720",
   "metadata": {
    "tags": []
   },
   "outputs": [
    {
     "data": {
      "text/html": [
       "<div style=\"width:100%;\"><div style=\"position:relative;width:100%;height:0;padding-bottom:60%;\"><span style=\"color:#565656\">Make this Notebook Trusted to load map: File -> Trust Notebook</span><iframe srcdoc=\"&lt;!DOCTYPE html&gt;\n",
       "&lt;html&gt;\n",
       "&lt;head&gt;\n",
       "    \n",
       "    &lt;meta http-equiv=&quot;content-type&quot; content=&quot;text/html; charset=UTF-8&quot; /&gt;\n",
       "    \n",
       "        &lt;script&gt;\n",
       "            L_NO_TOUCH = false;\n",
       "            L_DISABLE_3D = false;\n",
       "        &lt;/script&gt;\n",
       "    \n",
       "    &lt;style&gt;html, body {width: 100%;height: 100%;margin: 0;padding: 0;}&lt;/style&gt;\n",
       "    &lt;style&gt;#map {position:absolute;top:0;bottom:0;right:0;left:0;}&lt;/style&gt;\n",
       "    &lt;script src=&quot;https://cdn.jsdelivr.net/npm/leaflet@1.6.0/dist/leaflet.js&quot;&gt;&lt;/script&gt;\n",
       "    &lt;script src=&quot;https://code.jquery.com/jquery-1.12.4.min.js&quot;&gt;&lt;/script&gt;\n",
       "    &lt;script src=&quot;https://maxcdn.bootstrapcdn.com/bootstrap/3.2.0/js/bootstrap.min.js&quot;&gt;&lt;/script&gt;\n",
       "    &lt;script src=&quot;https://cdnjs.cloudflare.com/ajax/libs/Leaflet.awesome-markers/2.0.2/leaflet.awesome-markers.js&quot;&gt;&lt;/script&gt;\n",
       "    &lt;link rel=&quot;stylesheet&quot; href=&quot;https://cdn.jsdelivr.net/npm/leaflet@1.6.0/dist/leaflet.css&quot;/&gt;\n",
       "    &lt;link rel=&quot;stylesheet&quot; href=&quot;https://maxcdn.bootstrapcdn.com/bootstrap/3.2.0/css/bootstrap.min.css&quot;/&gt;\n",
       "    &lt;link rel=&quot;stylesheet&quot; href=&quot;https://maxcdn.bootstrapcdn.com/bootstrap/3.2.0/css/bootstrap-theme.min.css&quot;/&gt;\n",
       "    &lt;link rel=&quot;stylesheet&quot; href=&quot;https://maxcdn.bootstrapcdn.com/font-awesome/4.6.3/css/font-awesome.min.css&quot;/&gt;\n",
       "    &lt;link rel=&quot;stylesheet&quot; href=&quot;https://cdnjs.cloudflare.com/ajax/libs/Leaflet.awesome-markers/2.0.2/leaflet.awesome-markers.css&quot;/&gt;\n",
       "    &lt;link rel=&quot;stylesheet&quot; href=&quot;https://cdn.jsdelivr.net/gh/python-visualization/folium/folium/templates/leaflet.awesome.rotate.min.css&quot;/&gt;\n",
       "    \n",
       "            &lt;meta name=&quot;viewport&quot; content=&quot;width=device-width,\n",
       "                initial-scale=1.0, maximum-scale=1.0, user-scalable=no&quot; /&gt;\n",
       "            &lt;style&gt;\n",
       "                #map_b683d12aca98c697f8e6ef91d45e8bd7 {\n",
       "                    position: relative;\n",
       "                    width: 100.0%;\n",
       "                    height: 100.0%;\n",
       "                    left: 0.0%;\n",
       "                    top: 0.0%;\n",
       "                }\n",
       "            &lt;/style&gt;\n",
       "        \n",
       "&lt;/head&gt;\n",
       "&lt;body&gt;\n",
       "    \n",
       "    \n",
       "            &lt;div class=&quot;folium-map&quot; id=&quot;map_b683d12aca98c697f8e6ef91d45e8bd7&quot; &gt;&lt;/div&gt;\n",
       "        \n",
       "&lt;/body&gt;\n",
       "&lt;script&gt;\n",
       "    \n",
       "    \n",
       "            var map_b683d12aca98c697f8e6ef91d45e8bd7 = L.map(\n",
       "                &quot;map_b683d12aca98c697f8e6ef91d45e8bd7&quot;,\n",
       "                {\n",
       "                    center: [49.64746484638939, -1.724064228348934],\n",
       "                    crs: L.CRS.EPSG3857,\n",
       "                    zoom: 11,\n",
       "                    zoomControl: true,\n",
       "                    preferCanvas: false,\n",
       "                }\n",
       "            );\n",
       "\n",
       "            \n",
       "\n",
       "        \n",
       "    \n",
       "            var tile_layer_59dabfc7ef48529fec4e241f8bd0e4e3 = L.tileLayer(\n",
       "                &quot;https://{s}.tile.openstreetmap.org/{z}/{x}/{y}.png&quot;,\n",
       "                {&quot;attribution&quot;: &quot;Data by \\u0026copy; \\u003ca href=\\&quot;http://openstreetmap.org\\&quot;\\u003eOpenStreetMap\\u003c/a\\u003e, under \\u003ca href=\\&quot;http://www.openstreetmap.org/copyright\\&quot;\\u003eODbL\\u003c/a\\u003e.&quot;, &quot;detectRetina&quot;: false, &quot;maxNativeZoom&quot;: 18, &quot;maxZoom&quot;: 18, &quot;minZoom&quot;: 0, &quot;noWrap&quot;: false, &quot;opacity&quot;: 1, &quot;subdomains&quot;: &quot;abc&quot;, &quot;tms&quot;: false}\n",
       "            ).addTo(map_b683d12aca98c697f8e6ef91d45e8bd7);\n",
       "        \n",
       "    \n",
       "            var tile_layer_bf89782ef151dc479dfb9a3ab601af5e = L.tileLayer(\n",
       "                &quot;http://localhost:8000/tiles/967ab83d-3706-4341-ba3e-502329a4a493/{z}/{x}/{y}.png&quot;,\n",
       "                {&quot;attribution&quot;: &quot;Map data from geoproc :-)&quot;, &quot;bounds&quot;: [[49.54811254183769, -1.98019740485087], [49.74632896368088, -1.4669059289362074]], &quot;detectRetina&quot;: false, &quot;maxNativeZoom&quot;: 18, &quot;maxZoom&quot;: 18, &quot;minNativeZoom&quot;: 9, &quot;minZoom&quot;: 0, &quot;noWrap&quot;: false, &quot;opacity&quot;: 1, &quot;subdomains&quot;: &quot;abc&quot;, &quot;tms&quot;: false}\n",
       "            ).addTo(map_b683d12aca98c697f8e6ef91d45e8bd7);\n",
       "        \n",
       "    \n",
       "            var layer_control_2e812d3fc35007354be8629555c494c9 = {\n",
       "                base_layers : {\n",
       "                    &quot;openstreetmap&quot; : tile_layer_59dabfc7ef48529fec4e241f8bd0e4e3,\n",
       "                },\n",
       "                overlays :  {\n",
       "                    &quot;merged&quot; : tile_layer_bf89782ef151dc479dfb9a3ab601af5e,\n",
       "                },\n",
       "            };\n",
       "            L.control.layers(\n",
       "                layer_control_2e812d3fc35007354be8629555c494c9.base_layers,\n",
       "                layer_control_2e812d3fc35007354be8629555c494c9.overlays,\n",
       "                {&quot;autoZIndex&quot;: true, &quot;collapsed&quot;: false, &quot;position&quot;: &quot;topright&quot;}\n",
       "            ).addTo(map_b683d12aca98c697f8e6ef91d45e8bd7);\n",
       "        \n",
       "    \n",
       "            var layer_control_69f1304611453a6168d0ec3b5d873b2d = {\n",
       "                base_layers : {\n",
       "                    &quot;openstreetmap&quot; : tile_layer_59dabfc7ef48529fec4e241f8bd0e4e3,\n",
       "                },\n",
       "                overlays :  {\n",
       "                    &quot;merged&quot; : tile_layer_bf89782ef151dc479dfb9a3ab601af5e,\n",
       "                },\n",
       "            };\n",
       "            L.control.layers(\n",
       "                layer_control_69f1304611453a6168d0ec3b5d873b2d.base_layers,\n",
       "                layer_control_69f1304611453a6168d0ec3b5d873b2d.overlays,\n",
       "                {&quot;autoZIndex&quot;: true, &quot;collapsed&quot;: true, &quot;position&quot;: &quot;topright&quot;}\n",
       "            ).addTo(map_b683d12aca98c697f8e6ef91d45e8bd7);\n",
       "        \n",
       "&lt;/script&gt;\n",
       "&lt;/html&gt;\" style=\"position:absolute;width:100%;height:100%;left:0;top:0;border:none !important;\" allowfullscreen webkitallowfullscreen mozallowfullscreen></iframe></div></div>"
      ],
      "text/plain": [
       "<folium.folium.Map at 0x284299990>"
      ]
     },
     "metadata": {},
     "output_type": "display_data"
    }
   ],
   "source": [
    "# Define a map centered on southern Maine.\n",
    "map_tci = folium.Map(location=[49.64746484638939, -1.724064228348934], zoom_start=11)\n",
    "\n",
    "# Add the image layer to the map and display it.\n",
    "map_tci.add_layer(img, 'merged', {\"bands\": [\"b1\", \"b2\", \"b3\"], \"min\": 0, \"max\": 255, \"opacity\": 0.5})\n",
    "folium.LayerControl().add_to(map_tci)\n",
    "\n",
    "display(map_tci)"
   ]
  }
 ],
 "metadata": {
  "kernelspec": {
   "display_name": "Python 3 (ipykernel)",
   "language": "python",
   "name": "python3"
  },
  "language_info": {
   "codemirror_mode": {
    "name": "ipython",
    "version": 3
   },
   "file_extension": ".py",
   "mimetype": "text/x-python",
   "name": "python",
   "nbconvert_exporter": "python",
   "pygments_lexer": "ipython3",
   "version": "3.11.2"
  }
 },
 "nbformat": 4,
 "nbformat_minor": 5
}
