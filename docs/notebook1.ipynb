{
 "cells": [
  {
   "cell_type": "markdown",
   "id": "50f6bb7f",
   "metadata": {},
   "source": [
    "# Jupyter Notebook"
   ]
  },
  {
   "cell_type": "code",
   "execution_count": null,
   "id": "b37b07d5",
   "metadata": {},
   "outputs": [],
   "source": [
    "print('Hello, World!')"
   ]
  }
 ],
 "metadata": {
  "kernelspec": {
   "display_name": ".venv",
   "language": "python",
   "name": "python3"
  },
  "language_info": {
   "name": "python",
   "version": "3.10.6 (main, Nov 14 2022, 16:10:14) [GCC 11.3.0]"
  },
  "vscode": {
   "interpreter": {
    "hash": "231ae32de0fdac959dc8261cb7792cdb74d67b0540a326e09abe1b2ff4becb9b"
   }
  }
 },
 "nbformat": 4,
 "nbformat_minor": 5
}
